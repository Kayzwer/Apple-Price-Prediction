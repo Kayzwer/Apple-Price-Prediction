{
 "cells": [
  {
   "cell_type": "code",
   "execution_count": 1,
   "metadata": {},
   "outputs": [],
   "source": [
    "#import libraries\n",
    "import numpy as np\n",
    "import pandas as pd\n",
    "import matplotlib.pyplot as plt\n",
    "import seaborn as sns\n",
    "%matplotlib inline"
   ]
  },
  {
   "cell_type": "code",
   "execution_count": 2,
   "metadata": {},
   "outputs": [
    {
     "data": {
      "text/html": [
       "<div>\n",
       "<style scoped>\n",
       "    .dataframe tbody tr th:only-of-type {\n",
       "        vertical-align: middle;\n",
       "    }\n",
       "\n",
       "    .dataframe tbody tr th {\n",
       "        vertical-align: top;\n",
       "    }\n",
       "\n",
       "    .dataframe thead th {\n",
       "        text-align: right;\n",
       "    }\n",
       "</style>\n",
       "<table border=\"1\" class=\"dataframe\">\n",
       "  <thead>\n",
       "    <tr style=\"text-align: right;\">\n",
       "      <th></th>\n",
       "      <th>State Name</th>\n",
       "      <th>District Name</th>\n",
       "      <th>Market Name</th>\n",
       "      <th>Commodity</th>\n",
       "      <th>Variety</th>\n",
       "      <th>Grade</th>\n",
       "      <th>Min Price (Rs./Quintal)</th>\n",
       "      <th>Max Price (Rs./Quintal)</th>\n",
       "      <th>Difference</th>\n",
       "      <th>Modal Price (Rs./Quintal)</th>\n",
       "      <th>Price Date</th>\n",
       "    </tr>\n",
       "  </thead>\n",
       "  <tbody>\n",
       "    <tr>\n",
       "      <th>0</th>\n",
       "      <td>Maharashtra</td>\n",
       "      <td>Ahmednagar</td>\n",
       "      <td>Ahmednagar</td>\n",
       "      <td>Apple</td>\n",
       "      <td>Other</td>\n",
       "      <td>FAQ</td>\n",
       "      <td>9000</td>\n",
       "      <td>15000</td>\n",
       "      <td>6000</td>\n",
       "      <td>12000.0</td>\n",
       "      <td>10-Jul-20</td>\n",
       "    </tr>\n",
       "    <tr>\n",
       "      <th>1</th>\n",
       "      <td>Maharashtra</td>\n",
       "      <td>Ahmednagar</td>\n",
       "      <td>Ahmednagar</td>\n",
       "      <td>Apple</td>\n",
       "      <td>Other</td>\n",
       "      <td>FAQ</td>\n",
       "      <td>6000</td>\n",
       "      <td>10000</td>\n",
       "      <td>4000</td>\n",
       "      <td>8000.0</td>\n",
       "      <td>27-Jun-20</td>\n",
       "    </tr>\n",
       "    <tr>\n",
       "      <th>2</th>\n",
       "      <td>Maharashtra</td>\n",
       "      <td>Ahmednagar</td>\n",
       "      <td>Ahmednagar</td>\n",
       "      <td>Apple</td>\n",
       "      <td>Other</td>\n",
       "      <td>FAQ</td>\n",
       "      <td>13000</td>\n",
       "      <td>13000</td>\n",
       "      <td>0</td>\n",
       "      <td>13000.0</td>\n",
       "      <td>18-Jun-20</td>\n",
       "    </tr>\n",
       "    <tr>\n",
       "      <th>3</th>\n",
       "      <td>Maharashtra</td>\n",
       "      <td>Ahmednagar</td>\n",
       "      <td>Ahmednagar</td>\n",
       "      <td>Apple</td>\n",
       "      <td>Other</td>\n",
       "      <td>FAQ</td>\n",
       "      <td>3000</td>\n",
       "      <td>5000</td>\n",
       "      <td>2000</td>\n",
       "      <td>4000.0</td>\n",
       "      <td>20-May-20</td>\n",
       "    </tr>\n",
       "    <tr>\n",
       "      <th>4</th>\n",
       "      <td>Maharashtra</td>\n",
       "      <td>Ahmednagar</td>\n",
       "      <td>Ahmednagar</td>\n",
       "      <td>Apple</td>\n",
       "      <td>Other</td>\n",
       "      <td>FAQ</td>\n",
       "      <td>4000</td>\n",
       "      <td>6000</td>\n",
       "      <td>2000</td>\n",
       "      <td>5000.0</td>\n",
       "      <td>18-May-20</td>\n",
       "    </tr>\n",
       "  </tbody>\n",
       "</table>\n",
       "</div>"
      ],
      "text/plain": [
       "    State Name District Name Market Name Commodity Variety Grade  \\\n",
       "0  Maharashtra    Ahmednagar  Ahmednagar     Apple   Other   FAQ   \n",
       "1  Maharashtra    Ahmednagar  Ahmednagar     Apple   Other   FAQ   \n",
       "2  Maharashtra    Ahmednagar  Ahmednagar     Apple   Other   FAQ   \n",
       "3  Maharashtra    Ahmednagar  Ahmednagar     Apple   Other   FAQ   \n",
       "4  Maharashtra    Ahmednagar  Ahmednagar     Apple   Other   FAQ   \n",
       "\n",
       "   Min Price (Rs./Quintal)  Max Price (Rs./Quintal)  Difference  \\\n",
       "0                     9000                    15000        6000   \n",
       "1                     6000                    10000        4000   \n",
       "2                    13000                    13000           0   \n",
       "3                     3000                     5000        2000   \n",
       "4                     4000                     6000        2000   \n",
       "\n",
       "   Modal Price (Rs./Quintal) Price Date  \n",
       "0                    12000.0  10-Jul-20  \n",
       "1                     8000.0  27-Jun-20  \n",
       "2                    13000.0  18-Jun-20  \n",
       "3                     4000.0  20-May-20  \n",
       "4                     5000.0  18-May-20  "
      ]
     },
     "execution_count": 2,
     "metadata": {},
     "output_type": "execute_result"
    }
   ],
   "source": [
    "#Check dataset\n",
    "df = pd.read_csv('Apple Prices in Delhi Maharashtra and Kerala.csv')\n",
    "df.head()"
   ]
  },
  {
   "cell_type": "code",
   "execution_count": 3,
   "metadata": {},
   "outputs": [
    {
     "name": "stdout",
     "output_type": "stream",
     "text": [
      "<class 'pandas.core.frame.DataFrame'>\n",
      "RangeIndex: 19211 entries, 0 to 19210\n",
      "Data columns (total 11 columns):\n",
      " #   Column                     Non-Null Count  Dtype  \n",
      "---  ------                     --------------  -----  \n",
      " 0   State Name                 19211 non-null  object \n",
      " 1   District Name              19211 non-null  object \n",
      " 2   Market Name                19211 non-null  object \n",
      " 3   Commodity                  19211 non-null  object \n",
      " 4   Variety                    19211 non-null  object \n",
      " 5   Grade                      19211 non-null  object \n",
      " 6   Min Price (Rs./Quintal)    19211 non-null  int64  \n",
      " 7   Max Price (Rs./Quintal)    19211 non-null  int64  \n",
      " 8   Difference                 19211 non-null  int64  \n",
      " 9   Modal Price (Rs./Quintal)  19211 non-null  float64\n",
      " 10  Price Date                 19211 non-null  object \n",
      "dtypes: float64(1), int64(3), object(7)\n",
      "memory usage: 1.6+ MB\n"
     ]
    }
   ],
   "source": [
    "df.info()"
   ]
  },
  {
   "cell_type": "code",
   "execution_count": 4,
   "metadata": {},
   "outputs": [
    {
     "data": {
      "text/plain": [
       "(19211, 11)"
      ]
     },
     "execution_count": 4,
     "metadata": {},
     "output_type": "execute_result"
    }
   ],
   "source": [
    "df.shape"
   ]
  },
  {
   "cell_type": "code",
   "execution_count": 5,
   "metadata": {},
   "outputs": [
    {
     "data": {
      "text/plain": [
       "State Name                   0\n",
       "District Name                0\n",
       "Market Name                  0\n",
       "Commodity                    0\n",
       "Variety                      0\n",
       "Grade                        0\n",
       "Min Price (Rs./Quintal)      0\n",
       "Max Price (Rs./Quintal)      0\n",
       "Difference                   0\n",
       "Modal Price (Rs./Quintal)    0\n",
       "Price Date                   0\n",
       "dtype: int64"
      ]
     },
     "execution_count": 5,
     "metadata": {},
     "output_type": "execute_result"
    }
   ],
   "source": [
    "df.isnull().sum()"
   ]
  },
  {
   "cell_type": "code",
   "execution_count": 6,
   "metadata": {},
   "outputs": [],
   "source": [
    "df['Price Date'] = pd.to_datetime(df['Price Date'], format=\"%d-%b-%y\")"
   ]
  },
  {
   "cell_type": "code",
   "execution_count": 7,
   "metadata": {},
   "outputs": [
    {
     "data": {
      "text/html": [
       "<div>\n",
       "<style scoped>\n",
       "    .dataframe tbody tr th:only-of-type {\n",
       "        vertical-align: middle;\n",
       "    }\n",
       "\n",
       "    .dataframe tbody tr th {\n",
       "        vertical-align: top;\n",
       "    }\n",
       "\n",
       "    .dataframe thead th {\n",
       "        text-align: right;\n",
       "    }\n",
       "</style>\n",
       "<table border=\"1\" class=\"dataframe\">\n",
       "  <thead>\n",
       "    <tr style=\"text-align: right;\">\n",
       "      <th></th>\n",
       "      <th>State Name</th>\n",
       "      <th>District Name</th>\n",
       "      <th>Market Name</th>\n",
       "      <th>Commodity</th>\n",
       "      <th>Variety</th>\n",
       "      <th>Grade</th>\n",
       "      <th>Min Price (Rs./Quintal)</th>\n",
       "      <th>Max Price (Rs./Quintal)</th>\n",
       "      <th>Difference</th>\n",
       "      <th>Modal Price (Rs./Quintal)</th>\n",
       "      <th>Price Date</th>\n",
       "    </tr>\n",
       "  </thead>\n",
       "  <tbody>\n",
       "    <tr>\n",
       "      <th>0</th>\n",
       "      <td>Maharashtra</td>\n",
       "      <td>Ahmednagar</td>\n",
       "      <td>Ahmednagar</td>\n",
       "      <td>Apple</td>\n",
       "      <td>Other</td>\n",
       "      <td>FAQ</td>\n",
       "      <td>9000</td>\n",
       "      <td>15000</td>\n",
       "      <td>6000</td>\n",
       "      <td>12000.0</td>\n",
       "      <td>2020-07-10</td>\n",
       "    </tr>\n",
       "    <tr>\n",
       "      <th>1</th>\n",
       "      <td>Maharashtra</td>\n",
       "      <td>Ahmednagar</td>\n",
       "      <td>Ahmednagar</td>\n",
       "      <td>Apple</td>\n",
       "      <td>Other</td>\n",
       "      <td>FAQ</td>\n",
       "      <td>6000</td>\n",
       "      <td>10000</td>\n",
       "      <td>4000</td>\n",
       "      <td>8000.0</td>\n",
       "      <td>2020-06-27</td>\n",
       "    </tr>\n",
       "    <tr>\n",
       "      <th>2</th>\n",
       "      <td>Maharashtra</td>\n",
       "      <td>Ahmednagar</td>\n",
       "      <td>Ahmednagar</td>\n",
       "      <td>Apple</td>\n",
       "      <td>Other</td>\n",
       "      <td>FAQ</td>\n",
       "      <td>13000</td>\n",
       "      <td>13000</td>\n",
       "      <td>0</td>\n",
       "      <td>13000.0</td>\n",
       "      <td>2020-06-18</td>\n",
       "    </tr>\n",
       "    <tr>\n",
       "      <th>3</th>\n",
       "      <td>Maharashtra</td>\n",
       "      <td>Ahmednagar</td>\n",
       "      <td>Ahmednagar</td>\n",
       "      <td>Apple</td>\n",
       "      <td>Other</td>\n",
       "      <td>FAQ</td>\n",
       "      <td>3000</td>\n",
       "      <td>5000</td>\n",
       "      <td>2000</td>\n",
       "      <td>4000.0</td>\n",
       "      <td>2020-05-20</td>\n",
       "    </tr>\n",
       "    <tr>\n",
       "      <th>4</th>\n",
       "      <td>Maharashtra</td>\n",
       "      <td>Ahmednagar</td>\n",
       "      <td>Ahmednagar</td>\n",
       "      <td>Apple</td>\n",
       "      <td>Other</td>\n",
       "      <td>FAQ</td>\n",
       "      <td>4000</td>\n",
       "      <td>6000</td>\n",
       "      <td>2000</td>\n",
       "      <td>5000.0</td>\n",
       "      <td>2020-05-18</td>\n",
       "    </tr>\n",
       "  </tbody>\n",
       "</table>\n",
       "</div>"
      ],
      "text/plain": [
       "    State Name District Name Market Name Commodity Variety Grade  \\\n",
       "0  Maharashtra    Ahmednagar  Ahmednagar     Apple   Other   FAQ   \n",
       "1  Maharashtra    Ahmednagar  Ahmednagar     Apple   Other   FAQ   \n",
       "2  Maharashtra    Ahmednagar  Ahmednagar     Apple   Other   FAQ   \n",
       "3  Maharashtra    Ahmednagar  Ahmednagar     Apple   Other   FAQ   \n",
       "4  Maharashtra    Ahmednagar  Ahmednagar     Apple   Other   FAQ   \n",
       "\n",
       "   Min Price (Rs./Quintal)  Max Price (Rs./Quintal)  Difference  \\\n",
       "0                     9000                    15000        6000   \n",
       "1                     6000                    10000        4000   \n",
       "2                    13000                    13000           0   \n",
       "3                     3000                     5000        2000   \n",
       "4                     4000                     6000        2000   \n",
       "\n",
       "   Modal Price (Rs./Quintal) Price Date  \n",
       "0                    12000.0 2020-07-10  \n",
       "1                     8000.0 2020-06-27  \n",
       "2                    13000.0 2020-06-18  \n",
       "3                     4000.0 2020-05-20  \n",
       "4                     5000.0 2020-05-18  "
      ]
     },
     "execution_count": 7,
     "metadata": {},
     "output_type": "execute_result"
    }
   ],
   "source": [
    "df.head()"
   ]
  },
  {
   "cell_type": "code",
   "execution_count": 8,
   "metadata": {},
   "outputs": [
    {
     "data": {
      "text/plain": [
       "array([False])"
      ]
     },
     "execution_count": 8,
     "metadata": {},
     "output_type": "execute_result"
    }
   ],
   "source": [
    "dup = df.duplicated()\n",
    "dup.unique()"
   ]
  },
  {
   "cell_type": "code",
   "execution_count": 9,
   "metadata": {},
   "outputs": [
    {
     "data": {
      "text/html": [
       "<div>\n",
       "<style scoped>\n",
       "    .dataframe tbody tr th:only-of-type {\n",
       "        vertical-align: middle;\n",
       "    }\n",
       "\n",
       "    .dataframe tbody tr th {\n",
       "        vertical-align: top;\n",
       "    }\n",
       "\n",
       "    .dataframe thead th {\n",
       "        text-align: right;\n",
       "    }\n",
       "</style>\n",
       "<table border=\"1\" class=\"dataframe\">\n",
       "  <thead>\n",
       "    <tr style=\"text-align: right;\">\n",
       "      <th></th>\n",
       "      <th>State Name</th>\n",
       "      <th>District Name</th>\n",
       "      <th>Market Name</th>\n",
       "      <th>Commodity</th>\n",
       "      <th>Variety</th>\n",
       "      <th>Grade</th>\n",
       "      <th>Modal Price (Rs./Quintal)</th>\n",
       "      <th>Price Date</th>\n",
       "    </tr>\n",
       "  </thead>\n",
       "  <tbody>\n",
       "    <tr>\n",
       "      <th>0</th>\n",
       "      <td>Maharashtra</td>\n",
       "      <td>Ahmednagar</td>\n",
       "      <td>Ahmednagar</td>\n",
       "      <td>Apple</td>\n",
       "      <td>Other</td>\n",
       "      <td>FAQ</td>\n",
       "      <td>12000.0</td>\n",
       "      <td>2020-07-10</td>\n",
       "    </tr>\n",
       "    <tr>\n",
       "      <th>1</th>\n",
       "      <td>Maharashtra</td>\n",
       "      <td>Ahmednagar</td>\n",
       "      <td>Ahmednagar</td>\n",
       "      <td>Apple</td>\n",
       "      <td>Other</td>\n",
       "      <td>FAQ</td>\n",
       "      <td>8000.0</td>\n",
       "      <td>2020-06-27</td>\n",
       "    </tr>\n",
       "    <tr>\n",
       "      <th>2</th>\n",
       "      <td>Maharashtra</td>\n",
       "      <td>Ahmednagar</td>\n",
       "      <td>Ahmednagar</td>\n",
       "      <td>Apple</td>\n",
       "      <td>Other</td>\n",
       "      <td>FAQ</td>\n",
       "      <td>13000.0</td>\n",
       "      <td>2020-06-18</td>\n",
       "    </tr>\n",
       "    <tr>\n",
       "      <th>3</th>\n",
       "      <td>Maharashtra</td>\n",
       "      <td>Ahmednagar</td>\n",
       "      <td>Ahmednagar</td>\n",
       "      <td>Apple</td>\n",
       "      <td>Other</td>\n",
       "      <td>FAQ</td>\n",
       "      <td>4000.0</td>\n",
       "      <td>2020-05-20</td>\n",
       "    </tr>\n",
       "    <tr>\n",
       "      <th>4</th>\n",
       "      <td>Maharashtra</td>\n",
       "      <td>Ahmednagar</td>\n",
       "      <td>Ahmednagar</td>\n",
       "      <td>Apple</td>\n",
       "      <td>Other</td>\n",
       "      <td>FAQ</td>\n",
       "      <td>5000.0</td>\n",
       "      <td>2020-05-18</td>\n",
       "    </tr>\n",
       "  </tbody>\n",
       "</table>\n",
       "</div>"
      ],
      "text/plain": [
       "    State Name District Name Market Name Commodity Variety Grade  \\\n",
       "0  Maharashtra    Ahmednagar  Ahmednagar     Apple   Other   FAQ   \n",
       "1  Maharashtra    Ahmednagar  Ahmednagar     Apple   Other   FAQ   \n",
       "2  Maharashtra    Ahmednagar  Ahmednagar     Apple   Other   FAQ   \n",
       "3  Maharashtra    Ahmednagar  Ahmednagar     Apple   Other   FAQ   \n",
       "4  Maharashtra    Ahmednagar  Ahmednagar     Apple   Other   FAQ   \n",
       "\n",
       "   Modal Price (Rs./Quintal) Price Date  \n",
       "0                    12000.0 2020-07-10  \n",
       "1                     8000.0 2020-06-27  \n",
       "2                    13000.0 2020-06-18  \n",
       "3                     4000.0 2020-05-20  \n",
       "4                     5000.0 2020-05-18  "
      ]
     },
     "execution_count": 9,
     "metadata": {},
     "output_type": "execute_result"
    }
   ],
   "source": [
    "#Removeing columns\n",
    "df1 = df.drop(['Difference','Min Price (Rs./Quintal)','Max Price (Rs./Quintal)'], axis='columns')\n",
    "df1.head()"
   ]
  },
  {
   "cell_type": "code",
   "execution_count": 10,
   "metadata": {},
   "outputs": [],
   "source": [
    "#Rearrange columns\n",
    "cols = df1.columns.to_list()\n",
    "cols = cols[7:8] + cols[0:7]\n",
    "df2 = df1[cols]"
   ]
  },
  {
   "cell_type": "code",
   "execution_count": 11,
   "metadata": {},
   "outputs": [],
   "source": [
    "df2.set_index('Price Date', inplace=True)"
   ]
  },
  {
   "cell_type": "code",
   "execution_count": 12,
   "metadata": {},
   "outputs": [
    {
     "data": {
      "text/html": [
       "<div>\n",
       "<style scoped>\n",
       "    .dataframe tbody tr th:only-of-type {\n",
       "        vertical-align: middle;\n",
       "    }\n",
       "\n",
       "    .dataframe tbody tr th {\n",
       "        vertical-align: top;\n",
       "    }\n",
       "\n",
       "    .dataframe thead th {\n",
       "        text-align: right;\n",
       "    }\n",
       "</style>\n",
       "<table border=\"1\" class=\"dataframe\">\n",
       "  <thead>\n",
       "    <tr style=\"text-align: right;\">\n",
       "      <th></th>\n",
       "      <th>State Name</th>\n",
       "      <th>District Name</th>\n",
       "      <th>Market Name</th>\n",
       "      <th>Commodity</th>\n",
       "      <th>Variety</th>\n",
       "      <th>Grade</th>\n",
       "      <th>Modal Price (Rs./Quintal)</th>\n",
       "    </tr>\n",
       "    <tr>\n",
       "      <th>Price Date</th>\n",
       "      <th></th>\n",
       "      <th></th>\n",
       "      <th></th>\n",
       "      <th></th>\n",
       "      <th></th>\n",
       "      <th></th>\n",
       "      <th></th>\n",
       "    </tr>\n",
       "  </thead>\n",
       "  <tbody>\n",
       "    <tr>\n",
       "      <th>2018-01-01</th>\n",
       "      <td>Kerala</td>\n",
       "      <td>Idukki</td>\n",
       "      <td>Vandiperiyar</td>\n",
       "      <td>Apple</td>\n",
       "      <td>Other</td>\n",
       "      <td>Medium</td>\n",
       "      <td>10000.0</td>\n",
       "    </tr>\n",
       "    <tr>\n",
       "      <th>2018-01-01</th>\n",
       "      <td>Maharashtra</td>\n",
       "      <td>Satara</td>\n",
       "      <td>Karad</td>\n",
       "      <td>Apple</td>\n",
       "      <td>Simla</td>\n",
       "      <td>FAQ</td>\n",
       "      <td>9000.0</td>\n",
       "    </tr>\n",
       "    <tr>\n",
       "      <th>2018-01-01</th>\n",
       "      <td>Delhi</td>\n",
       "      <td>Delhi</td>\n",
       "      <td>Azadpur</td>\n",
       "      <td>Apple</td>\n",
       "      <td>Golden</td>\n",
       "      <td>Large</td>\n",
       "      <td>3833.0</td>\n",
       "    </tr>\n",
       "    <tr>\n",
       "      <th>2018-01-01</th>\n",
       "      <td>Kerala</td>\n",
       "      <td>Kollam</td>\n",
       "      <td>Kottarakkara</td>\n",
       "      <td>Apple</td>\n",
       "      <td>Other</td>\n",
       "      <td>Medium</td>\n",
       "      <td>15000.0</td>\n",
       "    </tr>\n",
       "    <tr>\n",
       "      <th>2018-01-01</th>\n",
       "      <td>Maharashtra</td>\n",
       "      <td>Ahmednagar</td>\n",
       "      <td>Rahuri</td>\n",
       "      <td>Apple</td>\n",
       "      <td>Other</td>\n",
       "      <td>FAQ</td>\n",
       "      <td>10000.0</td>\n",
       "    </tr>\n",
       "  </tbody>\n",
       "</table>\n",
       "</div>"
      ],
      "text/plain": [
       "             State Name District Name   Market Name Commodity Variety   Grade  \\\n",
       "Price Date                                                                      \n",
       "2018-01-01       Kerala        Idukki  Vandiperiyar     Apple   Other  Medium   \n",
       "2018-01-01  Maharashtra        Satara         Karad     Apple   Simla     FAQ   \n",
       "2018-01-01        Delhi         Delhi       Azadpur     Apple  Golden   Large   \n",
       "2018-01-01       Kerala        Kollam  Kottarakkara     Apple   Other  Medium   \n",
       "2018-01-01  Maharashtra    Ahmednagar        Rahuri     Apple   Other     FAQ   \n",
       "\n",
       "            Modal Price (Rs./Quintal)  \n",
       "Price Date                             \n",
       "2018-01-01                    10000.0  \n",
       "2018-01-01                     9000.0  \n",
       "2018-01-01                     3833.0  \n",
       "2018-01-01                    15000.0  \n",
       "2018-01-01                    10000.0  "
      ]
     },
     "execution_count": 12,
     "metadata": {},
     "output_type": "execute_result"
    }
   ],
   "source": [
    "df3 = df2.sort_index(ascending=True)\n",
    "df3.head()"
   ]
  },
  {
   "cell_type": "code",
   "execution_count": 13,
   "metadata": {},
   "outputs": [
    {
     "name": "stdout",
     "output_type": "stream",
     "text": [
      "1\n",
      "State Name\n",
      "['Kerala' 'Maharashtra' 'Delhi']\n",
      "2\n",
      "District Name\n",
      "['Idukki' 'Satara' 'Delhi' 'Kollam' 'Ahmednagar' 'Thiruvananthapuram'\n",
      " 'Kolhapur' 'Aurangabad' 'Nagpur' 'Amarawati' 'Alappuzha' 'Nashik' 'Thane'\n",
      " 'Sangli' 'Malappuram' 'Kozhikode(Calicut)' 'Mumbai' 'Chandrapur'\n",
      " 'Sholapur' 'Pune' 'Jalgaon' 'Osmanabad']\n",
      "3\n",
      "Market Name\n",
      "['Vandiperiyar' 'Karad' 'Azadpur' 'Kottarakkara' 'Rahuri' 'Chala'\n",
      " 'Kolhapur' 'Munnar' 'Aurangabad' 'Nagpur' 'Amrawati(Frui & Veg. Market)'\n",
      " 'Harippad' 'Thodupuzha' 'Nasik' 'Kalyan'\n",
      " 'Sangli(Phale, Bhajipura Market)' 'Aroor' 'Parappanangadi' 'Mukkom'\n",
      " 'Fruit Market' 'Thirurrangadi' 'Manjeri' 'Chandrapur' 'Kottakkal'\n",
      " 'Kondotty' 'Solapur' 'Perinthalmanna' 'Punalur' 'Kattappana'\n",
      " 'Nedumkandam' 'Pune' 'Jalgaon' 'Chathanoor' 'Chandrapur(Ganjwad)'\n",
      " 'Adimali' 'Amarawati' 'Cherthala' 'Mumbai' 'Ahmednagar'\n",
      " 'Washi(Thane Market)']\n",
      "4\n",
      "Commodity\n",
      "['Apple']\n",
      "5\n",
      "Variety\n",
      "['Other' 'Simla' 'Golden' 'Apple' 'American' 'Royal Delicious'\n",
      " 'Kullu Royal Delicious' 'Delicious' 'Red Gold' 'Kesri' 'Rich Red'\n",
      " 'Hajratbali']\n",
      "6\n",
      "Grade\n",
      "['Medium' 'FAQ' 'Large' 'Small']\n",
      "7\n",
      "Modal Price (Rs./Quintal)\n",
      "[1.0000e+04 9.0000e+03 3.8330e+03 1.5000e+04 1.1050e+04 4.0000e+03\n",
      " 8.5000e+03 7.0000e+03 8.2500e+03 5.0000e+03 8.0000e+03 7.5000e+03\n",
      " 6.5000e+03 9.1000e+03 9.2000e+03 9.5000e+03 9.8000e+03 7.1000e+03\n",
      " 7.4500e+03 8.1000e+03 7.0000e+02 1.1000e+04 3.7500e+03 6.5000e+02\n",
      " 8.6500e+03 9.7000e+03 1.4000e+04 7.2000e+03 1.2000e+04 7.5000e+02\n",
      " 9.1500e+03 7.1500e+03 1.3800e+04 8.7000e+03 6.9000e+03 1.3500e+04\n",
      " 5.5000e+03 6.2500e+03 8.2000e+03 7.6000e+03 8.6000e+03 8.3000e+03\n",
      " 2.0000e+04 1.0500e+04 8.9000e+03 7.2500e+03 1.2800e+04 6.7500e+03\n",
      " 7.3400e+03 6.0000e+02 1.1300e+04 9.4500e+03 8.4000e+03 1.2600e+04\n",
      " 1.1500e+04 7.3000e+03 9.7500e+03 7.1200e+03 7.4000e+03 9.9000e+03\n",
      " 8.8000e+03 4.2500e+03 1.6000e+04 1.2500e+04 4.5000e+03 1.1800e+04\n",
      " 3.6250e+03 1.5500e+04 1.0400e+04 1.1100e+04 9.6000e+03 6.9800e+03\n",
      " 6.0000e+03 1.0800e+04 1.3200e+04 3.5000e+03 1.9000e+04 4.9670e+03\n",
      " 1.3050e+04 1.2100e+04 1.9500e+04 5.4000e+02 9.3000e+03 1.4800e+04\n",
      " 7.8000e+03 3.5500e+03 1.9800e+04 2.0000e+03 1.3000e+04 1.8800e+04\n",
      " 1.0000e+03 1.1200e+04 1.2900e+04 1.1400e+04 3.8750e+03 6.2000e+03\n",
      " 9.5000e+02 1.5050e+04 1.0200e+04 5.8000e+03 5.5000e+02 3.9800e+03\n",
      " 3.4000e+03 3.2500e+03 1.1250e+04 4.7500e+03 1.1900e+04 1.0450e+04\n",
      " 9.2500e+03 6.3000e+03 5.0000e+02 1.2300e+04 1.0700e+04 3.6500e+03\n",
      " 8.7500e+03 3.1250e+03 8.8500e+03 7.9000e+03 1.2200e+04 7.2500e+02\n",
      " 9.4000e+03 1.0100e+04 8.0000e+02 9.8700e+03 1.1750e+04 8.5000e+02\n",
      " 9.0000e+02 1.0500e+03 7.7000e+03 1.9400e+04 2.0500e+04 5.0670e+03\n",
      " 5.1000e+03 1.0900e+04 1.0250e+04 5.1170e+03 8.1300e+03 1.0550e+04\n",
      " 1.4550e+04 4.0250e+03 1.1650e+04 1.8500e+04 1.0750e+04 5.1500e+03\n",
      " 8.4500e+03 3.6000e+03 2.2000e+04 2.1000e+03 1.1000e+03 2.4000e+03\n",
      " 1.4600e+04 2.5000e+03 2.7500e+03 1.4100e+04 1.3750e+04 1.8000e+04\n",
      " 5.0500e+03 1.1600e+04 1.2250e+04 3.1500e+03 1.4350e+04 1.4700e+04\n",
      " 2.6000e+03 6.3500e+03 1.9050e+04 5.7500e+03 1.8400e+04 1.4300e+04\n",
      " 1.3100e+04 1.3900e+04 5.5950e+03 1.3250e+04 1.3950e+04 1.3600e+04\n",
      " 1.2400e+04 2.5000e+04 1.4000e+03 1.4500e+04 1.5240e+03 8.2300e+03\n",
      " 1.7000e+04 1.6500e+04 2.6000e+04 4.0670e+03 6.3830e+03 1.8600e+04\n",
      " 2.7000e+04 1.5100e+04 1.4200e+04 1.0600e+04 5.6000e+03 2.1000e+04\n",
      " 1.3700e+04 1.8000e+03 1.8200e+04 1.2000e+03 1.5850e+04 6.3170e+03\n",
      " 1.7000e+03 8.9800e+03 1.1700e+04 6.0250e+03 5.2000e+02 3.9500e+03\n",
      " 1.4900e+04 2.3000e+03 3.0000e+04 5.6950e+03 1.7400e+04 6.3670e+03\n",
      " 4.2000e+02 1.5600e+04 6.8000e+03 1.7500e+04 1.6800e+04 1.2700e+04\n",
      " 1.3000e+03 1.5200e+04 1.4050e+04 1.5400e+04 5.2000e+03 1.5700e+04\n",
      " 2.7240e+03 2.3800e+04 7.4400e+03 2.4000e+04 2.7000e+03 1.3550e+04\n",
      " 1.3400e+04 2.3500e+04 1.7050e+04 1.5200e+03 9.6500e+03 1.0625e+04\n",
      " 1.6200e+03 6.4670e+03 1.2750e+04 1.4750e+04 1.4500e+03 2.4800e+04\n",
      " 2.4500e+03 1.5000e+03 1.0416e+04 1.9000e+03 4.1330e+03 1.2550e+04\n",
      " 1.6550e+04 2.2000e+03 2.1500e+04 3.1000e+04 3.8500e+03 1.6050e+04\n",
      " 2.4240e+03 3.8000e+03 3.6670e+03 7.3500e+03 3.4330e+03 3.9330e+03\n",
      " 4.4000e+03 3.3070e+03 4.6000e+03 2.8000e+04 5.1250e+03 3.4530e+03\n",
      " 4.9330e+03 1.0650e+04 2.4500e+04 4.9730e+03 4.6800e+03 6.1330e+03\n",
      " 5.8250e+03 5.6920e+03 5.6250e+03 5.6130e+03 5.6870e+03 5.6830e+03\n",
      " 2.2500e+03 5.3160e+03 6.2170e+03 6.0700e+03 7.7500e+03 6.9170e+03\n",
      " 5.6050e+03 5.5700e+03 6.5750e+03 4.9030e+03 6.7420e+03 6.6000e+03\n",
      " 8.9500e+03 6.4580e+03 1.6200e+04 4.8690e+03 6.4080e+03 4.5350e+03\n",
      " 1.6000e+03 4.3090e+03 6.3420e+03 4.5440e+03 4.3040e+03 4.2910e+03\n",
      " 4.2690e+03 4.0700e+03 9.0500e+03 4.1040e+03 5.7000e+03 2.6500e+03\n",
      " 5.7420e+03 4.5060e+03 5.7550e+03 4.0910e+03 5.4080e+03 1.1020e+04\n",
      " 3.4170e+03 4.8500e+03 7.6500e+03 5.2500e+03 4.0110e+03 5.5330e+03\n",
      " 4.0440e+03 5.3830e+03 7.0500e+03 5.3670e+03 5.8420e+03 3.7900e+03\n",
      " 3.6800e+03 5.9000e+03 5.5250e+03 5.4330e+03 2.3670e+03 3.5210e+03\n",
      " 1.2920e+03 2.5830e+03 3.3330e+03 3.2290e+03 7.5500e+03 4.3330e+03\n",
      " 3.7760e+03 2.6670e+03 3.4670e+03 3.2510e+03 5.0250e+03 8.1500e+03\n",
      " 1.1051e+04 5.4830e+03 3.7000e+03 3.2000e+03 5.2600e+03 6.2000e+02\n",
      " 8.5500e+03 2.6400e+03 5.2330e+03 5.1330e+03 4.8000e+03 6.1000e+03\n",
      " 5.3250e+03 5.3920e+03 5.1830e+03 5.5650e+03 8.0500e+03 6.4000e+03\n",
      " 6.4500e+03 5.4000e+03 5.2470e+03 8.1200e+03 4.6500e+03 9.3750e+03\n",
      " 8.3500e+03 3.0000e+03 2.8000e+03 9.5500e+03 5.9500e+03 9.3500e+03\n",
      " 6.7000e+03 9.8500e+03 6.0500e+03 7.2330e+03 5.0750e+03 4.3750e+03\n",
      " 4.6870e+03 9.9500e+03 3.9060e+03 3.4400e+03 4.6880e+03 4.7000e+03\n",
      " 6.8500e+03 5.1560e+03 5.3130e+03 7.8500e+03 5.3000e+03 7.1250e+03\n",
      " 2.2200e+04 5.3120e+03 4.4270e+03 5.3500e+03 4.7710e+03 3.1560e+03\n",
      " 6.6600e+03 3.4380e+03 3.1460e+03 7.3750e+03 5.3750e+03 1.0300e+04\n",
      " 6.9500e+03 4.6400e+03 4.4800e+03 5.9370e+03 6.6500e+03 3.6880e+03\n",
      " 1.8500e+03 4.0630e+03 6.5620e+03 5.1880e+03 4.2400e+03 7.6800e+03\n",
      " 3.5830e+03 4.3200e+03 4.4380e+03 5.2710e+03 5.0630e+03 4.2000e+03\n",
      " 3.2920e+03 3.1350e+03 1.0050e+04 4.9170e+03 4.9580e+03 3.1040e+03\n",
      " 4.1200e+03 7.9500e+03 4.8960e+03 4.5000e+02 8.6660e+03 1.0350e+04\n",
      " 5.3330e+03 1.7500e+03 7.2100e+03 6.5210e+03 6.7670e+03 1.3300e+04\n",
      " 1.2050e+04 7.1400e+03 7.8130e+03 6.1670e+03 6.3330e+03 1.0875e+04\n",
      " 1.1125e+04 6.8750e+03 7.8120e+03 1.5625e+04 5.8330e+03 7.7200e+03\n",
      " 8.3400e+03 5.6670e+03 6.8400e+03 1.4062e+04 7.5400e+03 6.2330e+03\n",
      " 1.1375e+04 5.1670e+03 1.6100e+04 1.4650e+04 1.3125e+04 1.3650e+04\n",
      " 1.3150e+04 6.6670e+03 1.1875e+04 1.2812e+04 3.2570e+03 1.9800e+03\n",
      " 1.4850e+04 1.6250e+04 8.3330e+03 1.5800e+04 1.7187e+04 8.4170e+03\n",
      " 1.1850e+04 8.8330e+03 1.5900e+04 9.1670e+03 1.2650e+04 1.2350e+04\n",
      " 8.9170e+03 5.7150e+03 5.5550e+03 5.2680e+03 8.5830e+03 5.0050e+03\n",
      " 4.9480e+03 8.0830e+03 4.3460e+03 3.2130e+03 4.6890e+03 5.2430e+03\n",
      " 5.3430e+03 5.3290e+03 5.6290e+03 8.5650e+03 6.5500e+03 5.9430e+03\n",
      " 4.8330e+03 5.8860e+03 6.3800e+03 3.8670e+03 4.4790e+03 6.5200e+03\n",
      " 5.3200e+03 4.7380e+03 5.2400e+03 2.7040e+03 6.1500e+03 4.5500e+03\n",
      " 3.2800e+03 4.6360e+03 7.2400e+03 5.0600e+03 6.3750e+03 4.4610e+03\n",
      " 4.8600e+03 3.1200e+03 4.9000e+03 2.9400e+03 1.4290e+03 3.9270e+03\n",
      " 2.9170e+03 4.5600e+03 4.0840e+03 1.7680e+03 4.5200e+03 2.5800e+03\n",
      " 4.8800e+03 5.8500e+03 3.9950e+03 2.9600e+03 4.1700e+03 3.3200e+03\n",
      " 4.9800e+03 4.9600e+03 4.4710e+03 5.1200e+03 4.5860e+03 3.5420e+03\n",
      " 3.5200e+03 4.5410e+03 5.2550e+03 2.9000e+03 4.4550e+03 4.3130e+03\n",
      " 7.2300e+03 5.2800e+03 4.2410e+03 4.2700e+03 5.1800e+03 1.5500e+03\n",
      " 7.3200e+03 6.5630e+03 5.0400e+03 7.8100e+03 5.0800e+03 4.4480e+03\n",
      " 5.6200e+03 5.5400e+03 4.2040e+03 3.9200e+03 4.9400e+03 3.8400e+03\n",
      " 4.4500e+03 4.7200e+03 3.8820e+03 3.3800e+03 4.9250e+03 1.7800e+04\n",
      " 1.7200e+04 3.8540e+03 3.1800e+03 3.9580e+03 6.8900e+03 3.9110e+03\n",
      " 3.9980e+03 3.1400e+03 4.0550e+03 5.1400e+03 3.6400e+03 4.0150e+03\n",
      " 2.6040e+03 5.3400e+03 4.3720e+03 4.1670e+03 5.7800e+03 4.2250e+03\n",
      " 4.3000e+03 4.1250e+03 2.6250e+03 7.8750e+03 1.8100e+04 1.7900e+04\n",
      " 1.6600e+04 6.8600e+03 1.0950e+04 3.3750e+03 7.8600e+03 8.0800e+03\n",
      " 2.5500e+03 4.5400e+03 4.4130e+03 4.5700e+03 4.7980e+03 8.8400e+03\n",
      " 8.7600e+03 5.0200e+03 8.6800e+03 7.8200e+03 4.9200e+03 5.5500e+03\n",
      " 4.3600e+03 2.1670e+03 2.2190e+03 1.5150e+04 2.1150e+03 7.4600e+03\n",
      " 1.0000e+01 2.0630e+03 7.6250e+03 3.0210e+03 7.6400e+03 1.1550e+04\n",
      " 6.9090e+03 1.5550e+04 6.6880e+03 6.8330e+03 1.4075e+04 1.0075e+04\n",
      " 3.5940e+03 2.3000e+04 7.0670e+03 1.1075e+04 8.0750e+03 7.9800e+03\n",
      " 7.0750e+03 7.5240e+03 7.8180e+03 7.9520e+03 3.4500e+03 6.4050e+03\n",
      " 1.2075e+04 6.0710e+03 6.0360e+03 5.4230e+03 5.9290e+03 5.4290e+03\n",
      " 6.0750e+03 5.2860e+03 5.1430e+03 4.7110e+03 2.9800e+03 4.7730e+03\n",
      " 1.6410e+03 4.5310e+03 2.8550e+03 2.0315e+03 5.6360e+03 3.2030e+03\n",
      " 4.3500e+03 4.6330e+03 2.1880e+03 4.6950e+03 4.4870e+03 4.6250e+03\n",
      " 3.1080e+03 4.3390e+03 4.2860e+03 4.8360e+03 2.9860e+03 4.1880e+03\n",
      " 4.2320e+03 5.9400e+03 3.9440e+03 3.8040e+03 4.3100e+03 3.4110e+03\n",
      " 3.5250e+03 3.4750e+03 4.0560e+03 3.8680e+03 3.7440e+03 3.8640e+03\n",
      " 3.3670e+03 3.0350e+03 3.5440e+03 3.4250e+03 3.3000e+03 3.2330e+03\n",
      " 3.7330e+03 3.8420e+03 3.5780e+03 3.7670e+03 3.6440e+03 3.9450e+03\n",
      " 3.5760e+03 8.2400e+03 3.5070e+03 3.5690e+03 4.0500e+03 3.7110e+03\n",
      " 3.7780e+03 4.2200e+03 3.8890e+03 4.4590e+03 3.9780e+03 4.6200e+03\n",
      " 4.2150e+03 3.8840e+03 4.8380e+03 3.9560e+03 3.7600e+03 3.8650e+03\n",
      " 3.8780e+03 4.0850e+03 3.8260e+03 8.1670e+03 3.6270e+03 8.8000e+02]\n"
     ]
    }
   ],
   "source": [
    "n = 1\n",
    "for col in df3.columns:\n",
    "    print(n)\n",
    "    print(col)\n",
    "    print(df3[col].unique())\n",
    "    n += 1"
   ]
  },
  {
   "cell_type": "code",
   "execution_count": 14,
   "metadata": {},
   "outputs": [],
   "source": [
    "#Haha, Commodity is just apple, that column is just needless\n",
    "df4 = df3.drop(['Commodity'], axis='columns')"
   ]
  },
  {
   "cell_type": "code",
   "execution_count": 15,
   "metadata": {},
   "outputs": [
    {
     "data": {
      "image/png": "[encoded data removed]",
      "text/plain": [
       "<Figure size 432x288 with 1 Axes>"
      ]
     },
     "metadata": {
      "needs_background": "light"
     },
     "output_type": "display_data"
    }
   ],
   "source": [
    "#Check for outlier\n",
    "df4.boxplot(column=['Modal Price (Rs./Quintal)'])\n",
    "plt.show()"
   ]
  },
  {
   "cell_type": "code",
   "execution_count": 16,
   "metadata": {},
   "outputs": [],
   "source": [
    "def remove_Outlier(col):\n",
    "    sorted(col)\n",
    "    Q1, Q3 = col.quantile([0.25, 0.75])\n",
    "    IQR = Q3 - Q1\n",
    "    lower_range = Q1 - (1.5 * IQR)\n",
    "    upper_range = Q3 + (1.5 * IQR)\n",
    "    return lower_range, upper_range"
   ]
  },
  {
   "cell_type": "code",
   "execution_count": 17,
   "metadata": {},
   "outputs": [],
   "source": [
    "lowprice, upprice = remove_Outlier(df4['Modal Price (Rs./Quintal)'])\n",
    "df4['Modal Price (Rs./Quintal)'] = np.where(df4['Modal Price (Rs./Quintal)']>upprice,upprice,df4['Modal Price (Rs./Quintal)'])\n",
    "df4['Modal Price (Rs./Quintal)'] = np.where(df4['Modal Price (Rs./Quintal)']<lowprice,lowprice,df4['Modal Price (Rs./Quintal)'])"
   ]
  },
  {
   "cell_type": "code",
   "execution_count": 18,
   "metadata": {},
   "outputs": [
    {
     "data": {
      "image/png": "[encoded data removed]",
      "text/plain": [
       "<Figure size 432x288 with 1 Axes>"
      ]
     },
     "metadata": {
      "needs_background": "light"
     },
     "output_type": "display_data"
    }
   ],
   "source": [
    "df4.boxplot(column=['Modal Price (Rs./Quintal)'])\n",
    "plt.show()"
   ]
  },
  {
   "cell_type": "code",
   "execution_count": 19,
   "metadata": {},
   "outputs": [
    {
     "data": {
      "image/png": "[encoded data removed]",
      "text/plain": [
       "<Figure size 432x288 with 1 Axes>"
      ]
     },
     "metadata": {
      "needs_background": "light"
     },
     "output_type": "display_data"
    }
   ],
   "source": [
    "#EDA first column\n",
    "#As we can see, the Kerala have the highest mean price and Delhi have the lowest price  \n",
    "df4.groupby('State Name')['Modal Price (Rs./Quintal)'].agg('mean').plot.bar()\n",
    "plt.show()"
   ]
  },
  {
   "cell_type": "code",
   "execution_count": 20,
   "metadata": {},
   "outputs": [
    {
     "data": {
      "text/plain": [
       "State Name   District Name     \n",
       "Delhi        Delhi                 1823\n",
       "Kerala       Malappuram            4078\n",
       "             Idukki                2452\n",
       "             Thiruvananthapuram    1469\n",
       "             Alappuzha              854\n",
       "             Kozhikode(Calicut)     735\n",
       "             Kollam                 352\n",
       "Maharashtra  Pune                   794\n",
       "             Chandrapur             754\n",
       "             Kolhapur               739\n",
       "             Nagpur                 699\n",
       "             Mumbai                 695\n",
       "             Amarawati              680\n",
       "             Sholapur               651\n",
       "             Nashik                 596\n",
       "             Sangli                 557\n",
       "             Satara                 412\n",
       "             Aurangabad             380\n",
       "             Thane                  297\n",
       "             Ahmednagar             115\n",
       "             Jalgaon                 77\n",
       "             Osmanabad                2\n",
       "Name: District Name, dtype: int64"
      ]
     },
     "execution_count": 20,
     "metadata": {},
     "output_type": "execute_result"
    }
   ],
   "source": [
    "#EDA second column\n",
    "#Logically, every district have just own by one state\n",
    "df4.groupby('State Name')['District Name'].value_counts()"
   ]
  },
  {
   "cell_type": "code",
   "execution_count": 21,
   "metadata": {},
   "outputs": [
    {
     "data": {
      "text/plain": [
       "District Name\n",
       "Kollam                13632.457386\n",
       "Alappuzha             11879.069087\n",
       "Thiruvananthapuram    11837.487406\n",
       "Satara                10563.898058\n",
       "Malappuram            10380.250123\n",
       "Idukki                10288.317700\n",
       "Thane                  9555.555556\n",
       "Kozhikode(Calicut)     9513.197279\n",
       "Nashik                 9178.691275\n",
       "Nagpur                 9171.575107\n",
       "Chandrapur             8837.997347\n",
       "Osmanabad              8750.000000\n",
       "Pune                   8725.012594\n",
       "Sangli                 8663.982047\n",
       "Mumbai                 8295.395683\n",
       "Kolhapur               7757.611637\n",
       "Amarawati              7186.176471\n",
       "Aurangabad             6997.500000\n",
       "Jalgaon                6064.935065\n",
       "Ahmednagar             5814.391304\n",
       "Delhi                  5060.243829\n",
       "Sholapur               1255.145929\n",
       "Name: Modal Price (Rs./Quintal), dtype: float64"
      ]
     },
     "execution_count": 21,
     "metadata": {},
     "output_type": "execute_result"
    }
   ],
   "source": [
    "#The district Kollam have highest mean price and Sholapur have lowest mean price.\n",
    "#Kollam are in Kerala, Sholapur are in Maharashtra\n",
    "df4.groupby('District Name')['Modal Price (Rs./Quintal)'].agg('mean').sort_values(ascending=False)"
   ]
  },
  {
   "cell_type": "code",
   "execution_count": 22,
   "metadata": {},
   "outputs": [
    {
     "data": {
      "text/plain": [
       "District Name       Market Name                    \n",
       "Ahmednagar          Rahuri                              108\n",
       "                    Ahmednagar                            7\n",
       "Alappuzha           Aroor                               700\n",
       "                    Harippad                            104\n",
       "                    Cherthala                            50\n",
       "Amarawati           Amrawati(Frui & Veg. Market)        676\n",
       "                    Amarawati                             4\n",
       "Aurangabad          Aurangabad                          380\n",
       "Chandrapur          Chandrapur(Ganjwad)                 705\n",
       "                    Chandrapur                           49\n",
       "Delhi               Azadpur                            1823\n",
       "Idukki              Kattappana                          871\n",
       "                    Thodupuzha                          658\n",
       "                    Munnar                              322\n",
       "                    Vandiperiyar                        249\n",
       "                    Nedumkandam                         197\n",
       "                    Adimali                             155\n",
       "Jalgaon             Jalgaon                              77\n",
       "Kolhapur            Kolhapur                            739\n",
       "Kollam              Kottarakkara                        194\n",
       "                    Punalur                             154\n",
       "                    Chathanoor                            4\n",
       "Kozhikode(Calicut)  Mukkom                              735\n",
       "Malappuram          Manjeri                             835\n",
       "                    Kottakkal                           758\n",
       "                    Perinthalmanna                      736\n",
       "                    Thirurrangadi                       624\n",
       "                    Kondotty                            567\n",
       "                    Parappanangadi                      558\n",
       "Mumbai              Fruit Market                        689\n",
       "                    Mumbai                                6\n",
       "Nagpur              Nagpur                              699\n",
       "Nashik              Nasik                               596\n",
       "Osmanabad           Washi(Thane Market)                   2\n",
       "Pune                Pune                                794\n",
       "Sangli              Sangli(Phale, Bhajipura Market)     557\n",
       "Satara              Karad                               412\n",
       "Sholapur            Solapur                             651\n",
       "Thane               Kalyan                              297\n",
       "Thiruvananthapuram  Chala                              1469\n",
       "Name: Market Name, dtype: int64"
      ]
     },
     "execution_count": 22,
     "metadata": {},
     "output_type": "execute_result"
    }
   ],
   "source": [
    "#EDA third column\n",
    "df4.groupby('District Name')['Market Name'].value_counts()"
   ]
  },
  {
   "cell_type": "code",
   "execution_count": 23,
   "metadata": {},
   "outputs": [
    {
     "data": {
      "image/png": "[encoded data removed]",
      "text/plain": [
       "<Figure size 1080x648 with 1 Axes>"
      ]
     },
     "metadata": {
      "needs_background": "light"
     },
     "output_type": "display_data"
    }
   ],
   "source": [
    "#The market Solapur have lowest mean price, Punalur have highest mean price\n",
    "#The District Sholapur have just one market only, the market Punalur are in the district Kollam\n",
    "plt.figure(figsize=(15,9))\n",
    "df4.groupby('Market Name')['Modal Price (Rs./Quintal)'].agg('mean').plot.bar()\n",
    "plt.show()"
   ]
  },
  {
   "cell_type": "code",
   "execution_count": 24,
   "metadata": {},
   "outputs": [
    {
     "data": {
      "image/png": "[encoded data removed]",
      "text/plain": [
       "<Figure size 432x288 with 1 Axes>"
      ]
     },
     "metadata": {
      "needs_background": "light"
     },
     "output_type": "display_data"
    }
   ],
   "source": [
    "#EDA fouth column\n",
    "#As we can see the American Apple have the highest mean price and the Kesri have lowest mean price\n",
    "df4.groupby('Variety')['Modal Price (Rs./Quintal)'].agg('mean').plot.bar()\n",
    "plt.show()"
   ]
  },
  {
   "cell_type": "code",
   "execution_count": 25,
   "metadata": {},
   "outputs": [
    {
     "data": {
      "text/plain": [
       "Variety\n",
       "American                     4\n",
       "Apple                     1063\n",
       "Delicious                  362\n",
       "Golden                     229\n",
       "Hajratbali                   1\n",
       "Kesri                       13\n",
       "Kullu Royal Delicious      420\n",
       "Other                    14226\n",
       "Red Gold                    14\n",
       "Rich Red                    46\n",
       "Royal Delicious            738\n",
       "Simla                     2095\n",
       "Name: Variety, dtype: int64"
      ]
     },
     "execution_count": 25,
     "metadata": {},
     "output_type": "execute_result"
    }
   ],
   "source": [
    "#The number of American Apple is so low even it got the highest mean price\n",
    "#Other variety of apple have the most supply with 3rd highest mean price\n",
    "df4.groupby('Variety')['Variety'].count()"
   ]
  },
  {
   "cell_type": "code",
   "execution_count": 26,
   "metadata": {
    "scrolled": false
   },
   "outputs": [
    {
     "data": {
      "image/png": "[encoded data removed]",
      "text/plain": [
       "<Figure size 432x288 with 1 Axes>"
      ]
     },
     "metadata": {
      "needs_background": "light"
     },
     "output_type": "display_data"
    }
   ],
   "source": [
    "#EDA fifth\n",
    "df4.groupby('Grade')['Modal Price (Rs./Quintal)'].agg('mean').plot.bar()\n",
    "plt.show()"
   ]
  },
  {
   "cell_type": "code",
   "execution_count": 27,
   "metadata": {},
   "outputs": [
    {
     "data": {
      "text/plain": [
       "Grade\n",
       "FAQ        7856.406523\n",
       "Large      8051.407046\n",
       "Medium    11179.962170\n",
       "Small      9330.606109\n",
       "Name: Modal Price (Rs./Quintal), dtype: float64"
      ]
     },
     "execution_count": 27,
     "metadata": {},
     "output_type": "execute_result"
    }
   ],
   "source": [
    "#I gonna replace the FAQ with L,M,S based on this mean value\n",
    "df4.groupby('Grade')['Modal Price (Rs./Quintal)'].agg('mean')"
   ]
  },
  {
   "cell_type": "code",
   "execution_count": 28,
   "metadata": {},
   "outputs": [],
   "source": [
    "#Get all row that Grade value is FAQ and repalce with Large, Medium or Small\n",
    "FAQ_df = df4[df4['Grade']=='FAQ']"
   ]
  },
  {
   "cell_type": "code",
   "execution_count": 29,
   "metadata": {
    "scrolled": true
   },
   "outputs": [
    {
     "name": "stderr",
     "output_type": "stream",
     "text": [
      "C:\\Users\\Asus\\anaconda3\\envs\\tf\\lib\\site-packages\\pandas\\core\\indexing.py:670: SettingWithCopyWarning: \n",
      "A value is trying to be set on a copy of a slice from a DataFrame\n",
      "\n",
      "See the caveats in the documentation: https://pandas.pydata.org/pandas-docs/stable/user_guide/indexing.html#returning-a-view-versus-a-copy\n",
      "  iloc._setitem_with_indexer(indexer, value)\n",
      "C:\\Users\\Asus\\anaconda3\\envs\\tf\\lib\\site-packages\\ipykernel_launcher.py:5: SettingWithCopyWarning: \n",
      "A value is trying to be set on a copy of a slice from a DataFrame\n",
      "\n",
      "See the caveats in the documentation: https://pandas.pydata.org/pandas-docs/stable/user_guide/indexing.html#returning-a-view-versus-a-copy\n",
      "  \"\"\"\n",
      "C:\\Users\\Asus\\anaconda3\\envs\\tf\\lib\\site-packages\\ipykernel_launcher.py:7: SettingWithCopyWarning: \n",
      "A value is trying to be set on a copy of a slice from a DataFrame\n",
      "\n",
      "See the caveats in the documentation: https://pandas.pydata.org/pandas-docs/stable/user_guide/indexing.html#returning-a-view-versus-a-copy\n",
      "  import sys\n",
      "C:\\Users\\Asus\\anaconda3\\envs\\tf\\lib\\site-packages\\ipykernel_launcher.py:3: SettingWithCopyWarning: \n",
      "A value is trying to be set on a copy of a slice from a DataFrame\n",
      "\n",
      "See the caveats in the documentation: https://pandas.pydata.org/pandas-docs/stable/user_guide/indexing.html#returning-a-view-versus-a-copy\n",
      "  This is separate from the ipykernel package so we can avoid doing imports until\n"
     ]
    }
   ],
   "source": [
    "for n in range(7451):\n",
    "    if FAQ_df['Modal Price (Rs./Quintal)'].iloc[n] <= 8000:\n",
    "        FAQ_df['Grade'].iloc[n] = 'Large'\n",
    "    elif FAQ_df['Modal Price (Rs./Quintal)'].iloc[n] > 8000 and FAQ_df['Modal Price (Rs./Quintal)'].iloc[n] < 9500:\n",
    "        FAQ_df['Grade'].iloc[n] = 'Small'\n",
    "    else:\n",
    "        FAQ_df['Grade'].iloc[n] = 'Medium'"
   ]
  },
  {
   "cell_type": "code",
   "execution_count": 30,
   "metadata": {},
   "outputs": [],
   "source": [
    "#Now i combine the fixed df with the original df\n",
    "Noprob_df = df4[df4['Grade'] != 'FAQ']\n",
    "Fnl_df = pd.concat([Noprob_df,FAQ_df],axis='rows')"
   ]
  },
  {
   "cell_type": "code",
   "execution_count": 31,
   "metadata": {},
   "outputs": [
    {
     "data": {
      "text/plain": [
       "array(['Medium', 'Large', 'Small'], dtype=object)"
      ]
     },
     "execution_count": 31,
     "metadata": {},
     "output_type": "execute_result"
    }
   ],
   "source": [
    "#Check for error\n",
    "Fnl_df['Grade'].unique()"
   ]
  },
  {
   "cell_type": "code",
   "execution_count": 32,
   "metadata": {},
   "outputs": [],
   "source": [
    "#Now i gonna do encoding for the features\n",
    "state_dummies = pd.get_dummies(Fnl_df['State Name'],drop_first=True)"
   ]
  },
  {
   "cell_type": "code",
   "execution_count": 33,
   "metadata": {},
   "outputs": [],
   "source": [
    "#Sry for this super long code, i want to done it in single line\n",
    "Fnl_df1 = pd.concat([Fnl_df.drop(['State Name'],axis='columns'),state_dummies],axis='columns')"
   ]
  },
  {
   "cell_type": "code",
   "execution_count": 34,
   "metadata": {},
   "outputs": [],
   "source": [
    "#Now i use Count encoding to encode the columns (District Name,Market Name,Variety)\n",
    "#I try to figure out the level of apple variety but i cant find some of the variety, so i cant really decide the \n",
    "#quality of apple\n",
    "district_dict = Fnl_df1['District Name'].value_counts().to_dict()\n",
    "market_dict = Fnl_df1['Market Name'].value_counts().to_dict()\n",
    "variety_dict = Fnl_df1['Variety'].value_counts().to_dict()"
   ]
  },
  {
   "cell_type": "code",
   "execution_count": 35,
   "metadata": {},
   "outputs": [],
   "source": [
    "Fnl_df1['District Name'] = Fnl_df1['District Name'].map(district_dict)\n",
    "Fnl_df1['Market Name'] = Fnl_df1['Market Name'].map(market_dict)\n",
    "Fnl_df1['Variety'] = Fnl_df1['Variety'].map(variety_dict)"
   ]
  },
  {
   "cell_type": "code",
   "execution_count": 36,
   "metadata": {},
   "outputs": [],
   "source": [
    "#Now the last feature, i gonna use ordinal encoding as the grade have level\n",
    "grade_dict = {\n",
    "    'Small': 0,\n",
    "    'Medium': 1,\n",
    "    'Large': 2\n",
    "}\n",
    "Fnl_df1['Grade'] = Fnl_df1['Grade'].map(grade_dict)"
   ]
  },
  {
   "cell_type": "code",
   "execution_count": 37,
   "metadata": {},
   "outputs": [
    {
     "data": {
      "text/html": [
       "<div>\n",
       "<style scoped>\n",
       "    .dataframe tbody tr th:only-of-type {\n",
       "        vertical-align: middle;\n",
       "    }\n",
       "\n",
       "    .dataframe tbody tr th {\n",
       "        vertical-align: top;\n",
       "    }\n",
       "\n",
       "    .dataframe thead th {\n",
       "        text-align: right;\n",
       "    }\n",
       "</style>\n",
       "<table border=\"1\" class=\"dataframe\">\n",
       "  <thead>\n",
       "    <tr style=\"text-align: right;\">\n",
       "      <th></th>\n",
       "      <th>District Name</th>\n",
       "      <th>Market Name</th>\n",
       "      <th>Variety</th>\n",
       "      <th>Grade</th>\n",
       "      <th>Modal Price (Rs./Quintal)</th>\n",
       "      <th>Kerala</th>\n",
       "      <th>Maharashtra</th>\n",
       "    </tr>\n",
       "    <tr>\n",
       "      <th>Price Date</th>\n",
       "      <th></th>\n",
       "      <th></th>\n",
       "      <th></th>\n",
       "      <th></th>\n",
       "      <th></th>\n",
       "      <th></th>\n",
       "      <th></th>\n",
       "    </tr>\n",
       "  </thead>\n",
       "  <tbody>\n",
       "    <tr>\n",
       "      <th>2018-01-01</th>\n",
       "      <td>2452</td>\n",
       "      <td>249</td>\n",
       "      <td>14226</td>\n",
       "      <td>1</td>\n",
       "      <td>10000.0</td>\n",
       "      <td>1</td>\n",
       "      <td>0</td>\n",
       "    </tr>\n",
       "    <tr>\n",
       "      <th>2018-01-01</th>\n",
       "      <td>1823</td>\n",
       "      <td>1823</td>\n",
       "      <td>229</td>\n",
       "      <td>2</td>\n",
       "      <td>3833.0</td>\n",
       "      <td>0</td>\n",
       "      <td>0</td>\n",
       "    </tr>\n",
       "    <tr>\n",
       "      <th>2018-01-01</th>\n",
       "      <td>352</td>\n",
       "      <td>194</td>\n",
       "      <td>14226</td>\n",
       "      <td>1</td>\n",
       "      <td>15000.0</td>\n",
       "      <td>1</td>\n",
       "      <td>0</td>\n",
       "    </tr>\n",
       "    <tr>\n",
       "      <th>2018-01-01</th>\n",
       "      <td>1469</td>\n",
       "      <td>1469</td>\n",
       "      <td>14226</td>\n",
       "      <td>1</td>\n",
       "      <td>11050.0</td>\n",
       "      <td>1</td>\n",
       "      <td>0</td>\n",
       "    </tr>\n",
       "    <tr>\n",
       "      <th>2018-01-01</th>\n",
       "      <td>2452</td>\n",
       "      <td>322</td>\n",
       "      <td>14226</td>\n",
       "      <td>1</td>\n",
       "      <td>8500.0</td>\n",
       "      <td>1</td>\n",
       "      <td>0</td>\n",
       "    </tr>\n",
       "  </tbody>\n",
       "</table>\n",
       "</div>"
      ],
      "text/plain": [
       "            District Name  Market Name  Variety  Grade  \\\n",
       "Price Date                                               \n",
       "2018-01-01           2452          249    14226      1   \n",
       "2018-01-01           1823         1823      229      2   \n",
       "2018-01-01            352          194    14226      1   \n",
       "2018-01-01           1469         1469    14226      1   \n",
       "2018-01-01           2452          322    14226      1   \n",
       "\n",
       "            Modal Price (Rs./Quintal)  Kerala  Maharashtra  \n",
       "Price Date                                                  \n",
       "2018-01-01                    10000.0       1            0  \n",
       "2018-01-01                     3833.0       0            0  \n",
       "2018-01-01                    15000.0       1            0  \n",
       "2018-01-01                    11050.0       1            0  \n",
       "2018-01-01                     8500.0       1            0  "
      ]
     },
     "execution_count": 37,
     "metadata": {},
     "output_type": "execute_result"
    }
   ],
   "source": [
    "#All the columns are in the numeric form, and I am going to split the data\n",
    "x = Fnl_df1.drop(['Modal Price (Rs./Quintal)'],axis='columns')\n",
    "y = Fnl_df1['Modal Price (Rs./Quintal)']\n",
    "Fnl_df1.head()"
   ]
  },
  {
   "cell_type": "code",
   "execution_count": 38,
   "metadata": {},
   "outputs": [],
   "source": [
    "from sklearn.model_selection import train_test_split\n",
    "x_train, x_test, y_train, y_test = train_test_split(x, y, random_state = 42, test_size=0.25)"
   ]
  },
  {
   "cell_type": "code",
   "execution_count": 39,
   "metadata": {},
   "outputs": [],
   "source": [
    "#Now i am going to do the and hypertuning(no features scaling cuz random forest is tree based algo which not require \n",
    "#scaling)\n",
    "from sklearn.ensemble import RandomForestRegressor\n",
    "from sklearn.model_selection import GridSearchCV\n",
    "from sklearn.metrics import mean_squared_error\n",
    "from sklearn.metrics import mean_absolute_error"
   ]
  },
  {
   "cell_type": "code",
   "execution_count": 40,
   "metadata": {},
   "outputs": [],
   "source": [
    "model = GridSearchCV(RandomForestRegressor(),{\n",
    "    'n_estimators': [100,110],\n",
    "    'max_depth': [15],\n",
    "    'min_samples_leaf': [1],\n",
    "    'criterion': ['mse','mae']\n",
    "},cv=5)"
   ]
  },
  {
   "cell_type": "code",
   "execution_count": 41,
   "metadata": {},
   "outputs": [
    {
     "data": {
      "text/plain": [
       "GridSearchCV(cv=5, estimator=RandomForestRegressor(),\n",
       "             param_grid={'criterion': ['mse', 'mae'], 'max_depth': [15],\n",
       "                         'min_samples_leaf': [1], 'n_estimators': [100, 110]})"
      ]
     },
     "execution_count": 41,
     "metadata": {},
     "output_type": "execute_result"
    }
   ],
   "source": [
    "model.fit(x_train,y_train)"
   ]
  },
  {
   "cell_type": "code",
   "execution_count": 42,
   "metadata": {},
   "outputs": [
    {
     "data": {
      "text/plain": [
       "0.719606554711166"
      ]
     },
     "execution_count": 42,
     "metadata": {},
     "output_type": "execute_result"
    }
   ],
   "source": [
    "model.best_score_"
   ]
  },
  {
   "cell_type": "code",
   "execution_count": 43,
   "metadata": {},
   "outputs": [
    {
     "data": {
      "text/plain": [
       "{'criterion': 'mse',\n",
       " 'max_depth': 15,\n",
       " 'min_samples_leaf': 1,\n",
       " 'n_estimators': 100}"
      ]
     },
     "execution_count": 43,
     "metadata": {},
     "output_type": "execute_result"
    }
   ],
   "source": [
    "model.best_params_"
   ]
  },
  {
   "cell_type": "code",
   "execution_count": 44,
   "metadata": {},
   "outputs": [
    {
     "data": {
      "text/plain": [
       "0.7086744034624242"
      ]
     },
     "execution_count": 44,
     "metadata": {},
     "output_type": "execute_result"
    }
   ],
   "source": [
    "model.score(x_test,y_test)"
   ]
  },
  {
   "cell_type": "code",
   "execution_count": 45,
   "metadata": {},
   "outputs": [
    {
     "data": {
      "text/plain": [
       "1393.3589972149803"
      ]
     },
     "execution_count": 45,
     "metadata": {},
     "output_type": "execute_result"
    }
   ],
   "source": [
    "y_pred = mean_absolute_error(y_test,model.predict(x_test))\n",
    "y_pred"
   ]
  },
  {
   "cell_type": "code",
   "execution_count": 46,
   "metadata": {},
   "outputs": [
    {
     "data": {
      "text/plain": [
       "['apple_price_predictor']"
      ]
     },
     "execution_count": 46,
     "metadata": {},
     "output_type": "execute_result"
    }
   ],
   "source": [
    "import joblib\n",
    "joblib.dump(model, 'apple_price_predictor')"
   ]
  }
 ],
 "metadata": {
  "kernelspec": {
   "display_name": "Python 3",
   "language": "python",
   "name": "python3"
  },
  "language_info": {
   "codemirror_mode": {
    "name": "ipython",
    "version": 3
   },
   "file_extension": ".py",
   "mimetype": "text/x-python",
   "name": "python",
   "nbconvert_exporter": "python",
   "pygments_lexer": "ipython3",
   "version": "3.7.9"
  }
 },
 "nbformat": 4,
 "nbformat_minor": 4
}
